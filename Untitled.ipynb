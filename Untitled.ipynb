{
 "cells": [
  {
   "cell_type": "markdown",
   "metadata": {},
   "source": [
    "# Programacion Orientada a Objetos"
   ]
  },
  {
   "cell_type": "markdown",
   "metadata": {},
   "source": [
    "La Programación Orientada a Objetos viene de una filosofía o forma de pensar que es la Orientación a Objetos y esto surge a partir de los problemas que necesitamos plasmar en código.\n",
    "\n",
    "Es analizar un problema en forma de objetos para después llevarlo a código, eso es la Orientación a Objetos.\n",
    "\n",
    "Un paradigma es una teoría que suministra la base y modelo para resolver problemas. La paradigma de Programación Orientada a Objetos se compone de 4 elementos:"
   ]
  },
  {
   "cell_type": "markdown",
   "metadata": {},
   "source": [
    "* Clases: Agrupacion de objetos\n",
    "* Atributos: Caracteristicas del objeto (Propiedades)\n",
    "* Métodos: Acciones del objeto o acciones que podemos realizar con los atributos (funciones)\n",
    "* Objetos:"
   ]
  },
  {
   "cell_type": "markdown",
   "metadata": {},
   "source": [
    "La programación orientada a objetos tiene cuatro características principales:<br>\n",
    "    \n",
    "<b>Encapsulamiento:</b>\n",
    "* Quiere decir que oculta datos mediante código.<br>\n",
    "\n",
    "<b>Abstracción:</b> \n",
    "* Es como se pueden representar los objetos en modo de código.<br>\n",
    "\n",
    "<b>Herencia:</b>\n",
    "* Es donde una clase nueva se crea a partir de una clase existente.<br>\n",
    "\n",
    "<b>Polimorfismo:</b> \n",
    "* Se refiere a la propiedad por la que es posible enviar mensajes sintácticamente iguales a objetos de tipos distintos."
   ]
  },
  {
   "cell_type": "markdown",
   "metadata": {},
   "source": [
    "<img src=https://static.platzi.com/media/user_upload/Captura-274ae063-55d1-4944-9280-f1eda1ca04e9.jpg>"
   ]
  },
  {
   "cell_type": "markdown",
   "metadata": {},
   "source": [
    "## Objetivos"
   ]
  },
  {
   "cell_type": "markdown",
   "metadata": {},
   "source": [
    "* Entender el funcionamiento de la POO.\n",
    "* Entender como medir la eficiencia temporal y espacial de nuestros algoritmos\n",
    "* Entender como y porque debemos graficar.\n",
    "* Aprender a resolver problemas de búsqueda, ordenación y optimización."
   ]
  },
  {
   "cell_type": "markdown",
   "metadata": {},
   "source": [
    "La clave para entender la programación orientada a objetos es pensar en objetos\n",
    "como agrupaciones de datos y los métodos que operan en dichos datos.\n",
    "\n",
    "Por ejemplo, podemos representar a una persona con propiedades como nombre,\n",
    "edad, género, etc. y los comportamientos de dicha persona como caminar, cantar,\n",
    "comer, etc. De la misma manera podemos representar unos audífonos con propiedades\n",
    "como su marca, tamaño, color, etc. y sus comportamientos como reproducir música,\n",
    "pausar y avanzar a la siguiente canción.\n",
    "\n",
    "Puesto de otra manera, la programación orientada a objetos nos permite modelar\n",
    "cosas reales y concretas del mundo y sus relaciones con otros objetos."
   ]
  },
  {
   "cell_type": "markdown",
   "metadata": {},
   "source": [
    "## Diagramas de Modelado"
   ]
  },
  {
   "cell_type": "markdown",
   "metadata": {},
   "source": [
    "<b>OMT Object Modeling Techniques</b> año `1991`: <br> \n",
    "* Es una metodología para el análisis orientado a objetos.\n",
    "* Se encuentra descontinuado\n",
    "\n",
    "<b>UML - Unified Modeling Language</b>: año `1997` <br>\n",
    "* Lenguaje de Modelado Unificado.\n",
    "* Tomó las bases y técnicas de OMT unificándolas.\n",
    "* Tenemos más opciones de diagramas como lo son Clases, Casos de Uso, Objetos, Actividades, Iteración, Estados, Implementación."
   ]
  },
  {
   "cell_type": "markdown",
   "metadata": {},
   "source": [
    "## Class"
   ]
  },
  {
   "cell_type": "markdown",
   "metadata": {},
   "source": [
    "Las estructuras primitivas con las que hemos trabajado hasta ahora nos permiten\n",
    "definir cosas sencillas, como:\n",
    "* el costo de algo,\n",
    "* el nombre de un usuario\n",
    "* las veces que debe correr un bucle, etc.\n",
    "\n",
    "Sin embargo, existen ocasiones cuando necesitamos definir estructuras más complejas, por ejemplo un hotel. \n",
    "Podríamos utilizar dos listas: una para definir los cuartos y una segunda para definir\n",
    "si el cuarto se encuentra ocupado o no."
   ]
  },
  {
   "cell_type": "code",
   "execution_count": 2,
   "metadata": {},
   "outputs": [],
   "source": [
    "class Hotel:\n",
    "    pass"
   ]
  },
  {
   "cell_type": "code",
   "execution_count": 4,
   "metadata": {},
   "outputs": [
    {
     "data": {
      "text/plain": [
       "__main__.Hotel"
      ]
     },
     "execution_count": 4,
     "metadata": {},
     "output_type": "execute_result"
    }
   ],
   "source": [
    "Hotel"
   ]
  },
  {
   "cell_type": "code",
   "execution_count": 28,
   "metadata": {},
   "outputs": [
    {
     "name": "stdout",
     "output_type": "stream",
     "text": [
      "<class 'int'>\n",
      "<class 'str'>\n",
      "<class 'type'>\n",
      "<class '__main__.Hotel'>\n"
     ]
    }
   ],
   "source": [
    "print(type(2))\n",
    "print(type('Hotel'))\n",
    "print(type(Hotel))\n",
    "print(Hotel)"
   ]
  },
  {
   "cell_type": "code",
   "execution_count": null,
   "metadata": {},
   "outputs": [],
   "source": []
  },
  {
   "cell_type": "code",
   "execution_count": null,
   "metadata": {},
   "outputs": [],
   "source": []
  },
  {
   "cell_type": "code",
   "execution_count": 18,
   "metadata": {},
   "outputs": [
    {
     "name": "stdout",
     "output_type": "stream",
     "text": [
      "50\n"
     ]
    }
   ],
   "source": [
    "class Hotel:\n",
    "    \n",
    "    def __init__(self, numero_maximo_de_huespedes, lugares_de_estacionamiento):\n",
    "        self.numero_maximo_de_huespedes = numero_maximo_de_huespedes\n",
    "        self.lugares_de_estacionamiento = lugares_de_estacionamiento\n",
    "        self.huespedes = 0\n",
    "\n",
    "hotel_hvca = Hotel(numero_maximo_de_huespedes=50, lugares_de_estacionamiento=20)\n",
    "print(hotel_hvca.numero_maximo_de_huespedes)"
   ]
  },
  {
   "cell_type": "code",
   "execution_count": null,
   "metadata": {},
   "outputs": [],
   "source": []
  },
  {
   "cell_type": "code",
   "execution_count": 21,
   "metadata": {},
   "outputs": [
    {
     "ename": "TypeError",
     "evalue": "Hotel() takes no arguments",
     "output_type": "error",
     "traceback": [
      "\u001b[1;31m---------------------------------------------------------------------------\u001b[0m",
      "\u001b[1;31mTypeError\u001b[0m                                 Traceback (most recent call last)",
      "\u001b[1;32m<ipython-input-21-8d92dacc1210>\u001b[0m in \u001b[0;36m<module>\u001b[1;34m\u001b[0m\n\u001b[0;32m     11\u001b[0m \u001b[1;33m\u001b[0m\u001b[0m\n\u001b[0;32m     12\u001b[0m \u001b[1;33m\u001b[0m\u001b[0m\n\u001b[1;32m---> 13\u001b[1;33m \u001b[0mhotel\u001b[0m \u001b[1;33m=\u001b[0m \u001b[0mHotel\u001b[0m\u001b[1;33m(\u001b[0m\u001b[1;36m50\u001b[0m\u001b[1;33m,\u001b[0m \u001b[1;36m20\u001b[0m\u001b[1;33m)\u001b[0m\u001b[1;33m\u001b[0m\u001b[1;33m\u001b[0m\u001b[0m\n\u001b[0m\u001b[0;32m     14\u001b[0m \u001b[0mhotel\u001b[0m\u001b[1;33m.\u001b[0m\u001b[0manadir_huespedes\u001b[0m\u001b[1;33m(\u001b[0m\u001b[1;36m3\u001b[0m\u001b[1;33m)\u001b[0m\u001b[1;33m\u001b[0m\u001b[1;33m\u001b[0m\u001b[0m\n\u001b[0;32m     15\u001b[0m \u001b[0mhotel\u001b[0m\u001b[1;33m.\u001b[0m\u001b[0mcheckout\u001b[0m\u001b[1;33m(\u001b[0m\u001b[1;36m1\u001b[0m\u001b[1;33m)\u001b[0m\u001b[1;33m\u001b[0m\u001b[1;33m\u001b[0m\u001b[0m\n",
      "\u001b[1;31mTypeError\u001b[0m: Hotel() takes no arguments"
     ]
    }
   ],
   "source": [
    "class Hotel:\n",
    "\n",
    "    def anadir_huespedes(self, cantidad_de_huespedes):\n",
    "        self.huespedes += cantidad_de_huespedes\n",
    "\n",
    "    def checkout(self, cantidad_de_huespedes):\n",
    "        self.huespedes -= cantidad_de_huespedes\n",
    "\n",
    "    def ocupacion_total(self):\n",
    "        return self.huespedes\n",
    "\n",
    "\n",
    "hotel = Hotel(50, 20)\n",
    "hotel.anadir_huespedes(3)\n",
    "hotel.checkout(1)\n",
    "hotel.ocupacion_total()"
   ]
  },
  {
   "cell_type": "code",
   "execution_count": 26,
   "metadata": {},
   "outputs": [
    {
     "name": "stdout",
     "output_type": "stream",
     "text": [
      "Numero de huespedes maximo\n",
      "50\n",
      "Numero de estacionamiento maximo\n",
      "20\n",
      "Ingresan 7 huespedes, Marzo 24\n",
      "Huespedes checkin: 7\n",
      "Salen 3 huespedes, Abril 2\n",
      "Huespedes checkout: 3\n",
      "Huespedes actuales: 4\n"
     ]
    }
   ],
   "source": [
    "class Hotel:\n",
    "    \n",
    "    def __init__(self, numero_maximo_de_huespedes, lugares_de_estacionamiento):\n",
    "        self.numero_maximo_de_huespedes = numero_maximo_de_huespedes\n",
    "        self.lugares_de_estacionamiento = lugares_de_estacionamiento\n",
    "        self.huespedes = 0\n",
    "        \n",
    "    def anadir_huespedes(self, cantidad_de_huespedes):# --> Operaciones entro de clase Hotel\n",
    "        self.huespedes += cantidad_de_huespedes         # Aumentar huespedes\n",
    "\n",
    "    def checkout(self, cantidad_de_huespedes):# --> Operaciones entro de clase Hotel\n",
    "        self.huespedes -= cantidad_de_huespedes         # Disminuir huespeder\n",
    "\n",
    "    def ocupacion_total(self):# --> Operaciones entro de clase Hotel\n",
    "        return self.huespedes                           # Calcula huespedes actuales\n",
    "\n",
    "hotel = Hotel(numero_maximo_de_huespedes=50, lugares_de_estacionamiento=20)\n",
    "\n",
    "print(f'Numero de huespedes maximo')\n",
    "print(hotel.numero_maximo_de_huespedes)\n",
    "print(f'Numero de estacionamiento maximo')\n",
    "print(hotel.lugares_de_estacionamiento) \n",
    "\n",
    "# hotel = Hotel(50, 20) Se puede modificar la cantidad maxima de huespedes dado el caso.\n",
    "\n",
    "##  --- Flujo de informacion  ---  ##\n",
    "\n",
    "\n",
    "print('Ingresan 7 huespedes, Marzo 24')\n",
    "print(f'Huespedes checkin: 7')\n",
    "hotel.anadir_huespedes(7)   # --> Operaciones dentro de class Hotel, hacer llamado con hotel. IMPORTANTE\n",
    "                            # verificar y entender cuales son las funciones existentes dentro de class Hotel\n",
    "                            # para saber que operaciones pueden hacer en esta.\n",
    "\n",
    "print('Salen 3 huespedes, Abril 2')\n",
    "print(f'Huespedes checkout:', 3 )\n",
    "hotel.checkout(3)\n",
    "\n",
    "print(f'Huespedes actuales:', hotel.huespedes)"
   ]
  },
  {
   "cell_type": "code",
   "execution_count": null,
   "metadata": {},
   "outputs": [],
   "source": []
  }
 ],
 "metadata": {
  "kernelspec": {
   "display_name": "Python 3",
   "language": "python",
   "name": "python3"
  },
  "language_info": {
   "codemirror_mode": {
    "name": "ipython",
    "version": 3
   },
   "file_extension": ".py",
   "mimetype": "text/x-python",
   "name": "python",
   "nbconvert_exporter": "python",
   "pygments_lexer": "ipython3",
   "version": "3.7.6"
  }
 },
 "nbformat": 4,
 "nbformat_minor": 4
}
